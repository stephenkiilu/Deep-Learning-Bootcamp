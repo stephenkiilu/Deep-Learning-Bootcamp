{
  "nbformat": 4,
  "nbformat_minor": 0,
  "metadata": {
    "kernelspec": {
      "display_name": "Python 3",
      "language": "python",
      "name": "python3"
    },
    "language_info": {
      "codemirror_mode": {
        "name": "ipython",
        "version": 3
      },
      "file_extension": ".py",
      "mimetype": "text/x-python",
      "name": "python",
      "nbconvert_exporter": "python",
      "pygments_lexer": "ipython3",
      "version": "3.6.6"
    },
    "colab": {
      "name": "Stephen Kiilu convolutions_student Bootcamp3-Corrected copy",
      "provenance": [],
      "collapsed_sections": []
    },
    "widgets": {
      "application/vnd.jupyter.widget-state+json": {
        "c0665a31caea4b8e870db4ca3cbf66dc": {
          "model_module": "@jupyter-widgets/controls",
          "model_name": "HBoxModel",
          "model_module_version": "1.5.0",
          "state": {
            "_dom_classes": [],
            "_model_module": "@jupyter-widgets/controls",
            "_model_module_version": "1.5.0",
            "_model_name": "HBoxModel",
            "_view_count": null,
            "_view_module": "@jupyter-widgets/controls",
            "_view_module_version": "1.5.0",
            "_view_name": "HBoxView",
            "box_style": "",
            "children": [
              "IPY_MODEL_b7d14c439517443a9956583bd4784730",
              "IPY_MODEL_365b367a7ba2486094b60fa2f04692b9",
              "IPY_MODEL_44e0865ebe4b4d4a9a5eb6129166fe46"
            ],
            "layout": "IPY_MODEL_64a494beb78345fdb7304d3f30280925"
          }
        },
        "b7d14c439517443a9956583bd4784730": {
          "model_module": "@jupyter-widgets/controls",
          "model_name": "HTMLModel",
          "model_module_version": "1.5.0",
          "state": {
            "_dom_classes": [],
            "_model_module": "@jupyter-widgets/controls",
            "_model_module_version": "1.5.0",
            "_model_name": "HTMLModel",
            "_view_count": null,
            "_view_module": "@jupyter-widgets/controls",
            "_view_module_version": "1.5.0",
            "_view_name": "HTMLView",
            "description": "",
            "description_tooltip": null,
            "layout": "IPY_MODEL_79668f67ac4c4704a375a4ad92511735",
            "placeholder": "​",
            "style": "IPY_MODEL_66f1898d2e6b48b18bee45b76097531a",
            "value": ""
          }
        },
        "365b367a7ba2486094b60fa2f04692b9": {
          "model_module": "@jupyter-widgets/controls",
          "model_name": "FloatProgressModel",
          "model_module_version": "1.5.0",
          "state": {
            "_dom_classes": [],
            "_model_module": "@jupyter-widgets/controls",
            "_model_module_version": "1.5.0",
            "_model_name": "FloatProgressModel",
            "_view_count": null,
            "_view_module": "@jupyter-widgets/controls",
            "_view_module_version": "1.5.0",
            "_view_name": "ProgressView",
            "bar_style": "success",
            "description": "",
            "description_tooltip": null,
            "layout": "IPY_MODEL_d1b809807ac54f00a0b59aefa0cd287c",
            "max": 170498071,
            "min": 0,
            "orientation": "horizontal",
            "style": "IPY_MODEL_99483cfcdeb14a7bbfd21a3e082e97c8",
            "value": 170498071
          }
        },
        "44e0865ebe4b4d4a9a5eb6129166fe46": {
          "model_module": "@jupyter-widgets/controls",
          "model_name": "HTMLModel",
          "model_module_version": "1.5.0",
          "state": {
            "_dom_classes": [],
            "_model_module": "@jupyter-widgets/controls",
            "_model_module_version": "1.5.0",
            "_model_name": "HTMLModel",
            "_view_count": null,
            "_view_module": "@jupyter-widgets/controls",
            "_view_module_version": "1.5.0",
            "_view_name": "HTMLView",
            "description": "",
            "description_tooltip": null,
            "layout": "IPY_MODEL_8e605a648bd84d49a6858e8f8cb807e0",
            "placeholder": "​",
            "style": "IPY_MODEL_89c542df9cf04f1abfbf8a0e20c82b04",
            "value": " 170499072/? [00:06&lt;00:00, 28977888.52it/s]"
          }
        },
        "64a494beb78345fdb7304d3f30280925": {
          "model_module": "@jupyter-widgets/base",
          "model_name": "LayoutModel",
          "model_module_version": "1.2.0",
          "state": {
            "_model_module": "@jupyter-widgets/base",
            "_model_module_version": "1.2.0",
            "_model_name": "LayoutModel",
            "_view_count": null,
            "_view_module": "@jupyter-widgets/base",
            "_view_module_version": "1.2.0",
            "_view_name": "LayoutView",
            "align_content": null,
            "align_items": null,
            "align_self": null,
            "border": null,
            "bottom": null,
            "display": null,
            "flex": null,
            "flex_flow": null,
            "grid_area": null,
            "grid_auto_columns": null,
            "grid_auto_flow": null,
            "grid_auto_rows": null,
            "grid_column": null,
            "grid_gap": null,
            "grid_row": null,
            "grid_template_areas": null,
            "grid_template_columns": null,
            "grid_template_rows": null,
            "height": null,
            "justify_content": null,
            "justify_items": null,
            "left": null,
            "margin": null,
            "max_height": null,
            "max_width": null,
            "min_height": null,
            "min_width": null,
            "object_fit": null,
            "object_position": null,
            "order": null,
            "overflow": null,
            "overflow_x": null,
            "overflow_y": null,
            "padding": null,
            "right": null,
            "top": null,
            "visibility": null,
            "width": null
          }
        },
        "79668f67ac4c4704a375a4ad92511735": {
          "model_module": "@jupyter-widgets/base",
          "model_name": "LayoutModel",
          "model_module_version": "1.2.0",
          "state": {
            "_model_module": "@jupyter-widgets/base",
            "_model_module_version": "1.2.0",
            "_model_name": "LayoutModel",
            "_view_count": null,
            "_view_module": "@jupyter-widgets/base",
            "_view_module_version": "1.2.0",
            "_view_name": "LayoutView",
            "align_content": null,
            "align_items": null,
            "align_self": null,
            "border": null,
            "bottom": null,
            "display": null,
            "flex": null,
            "flex_flow": null,
            "grid_area": null,
            "grid_auto_columns": null,
            "grid_auto_flow": null,
            "grid_auto_rows": null,
            "grid_column": null,
            "grid_gap": null,
            "grid_row": null,
            "grid_template_areas": null,
            "grid_template_columns": null,
            "grid_template_rows": null,
            "height": null,
            "justify_content": null,
            "justify_items": null,
            "left": null,
            "margin": null,
            "max_height": null,
            "max_width": null,
            "min_height": null,
            "min_width": null,
            "object_fit": null,
            "object_position": null,
            "order": null,
            "overflow": null,
            "overflow_x": null,
            "overflow_y": null,
            "padding": null,
            "right": null,
            "top": null,
            "visibility": null,
            "width": null
          }
        },
        "66f1898d2e6b48b18bee45b76097531a": {
          "model_module": "@jupyter-widgets/controls",
          "model_name": "DescriptionStyleModel",
          "model_module_version": "1.5.0",
          "state": {
            "_model_module": "@jupyter-widgets/controls",
            "_model_module_version": "1.5.0",
            "_model_name": "DescriptionStyleModel",
            "_view_count": null,
            "_view_module": "@jupyter-widgets/base",
            "_view_module_version": "1.2.0",
            "_view_name": "StyleView",
            "description_width": ""
          }
        },
        "d1b809807ac54f00a0b59aefa0cd287c": {
          "model_module": "@jupyter-widgets/base",
          "model_name": "LayoutModel",
          "model_module_version": "1.2.0",
          "state": {
            "_model_module": "@jupyter-widgets/base",
            "_model_module_version": "1.2.0",
            "_model_name": "LayoutModel",
            "_view_count": null,
            "_view_module": "@jupyter-widgets/base",
            "_view_module_version": "1.2.0",
            "_view_name": "LayoutView",
            "align_content": null,
            "align_items": null,
            "align_self": null,
            "border": null,
            "bottom": null,
            "display": null,
            "flex": null,
            "flex_flow": null,
            "grid_area": null,
            "grid_auto_columns": null,
            "grid_auto_flow": null,
            "grid_auto_rows": null,
            "grid_column": null,
            "grid_gap": null,
            "grid_row": null,
            "grid_template_areas": null,
            "grid_template_columns": null,
            "grid_template_rows": null,
            "height": null,
            "justify_content": null,
            "justify_items": null,
            "left": null,
            "margin": null,
            "max_height": null,
            "max_width": null,
            "min_height": null,
            "min_width": null,
            "object_fit": null,
            "object_position": null,
            "order": null,
            "overflow": null,
            "overflow_x": null,
            "overflow_y": null,
            "padding": null,
            "right": null,
            "top": null,
            "visibility": null,
            "width": null
          }
        },
        "99483cfcdeb14a7bbfd21a3e082e97c8": {
          "model_module": "@jupyter-widgets/controls",
          "model_name": "ProgressStyleModel",
          "model_module_version": "1.5.0",
          "state": {
            "_model_module": "@jupyter-widgets/controls",
            "_model_module_version": "1.5.0",
            "_model_name": "ProgressStyleModel",
            "_view_count": null,
            "_view_module": "@jupyter-widgets/base",
            "_view_module_version": "1.2.0",
            "_view_name": "StyleView",
            "bar_color": null,
            "description_width": ""
          }
        },
        "8e605a648bd84d49a6858e8f8cb807e0": {
          "model_module": "@jupyter-widgets/base",
          "model_name": "LayoutModel",
          "model_module_version": "1.2.0",
          "state": {
            "_model_module": "@jupyter-widgets/base",
            "_model_module_version": "1.2.0",
            "_model_name": "LayoutModel",
            "_view_count": null,
            "_view_module": "@jupyter-widgets/base",
            "_view_module_version": "1.2.0",
            "_view_name": "LayoutView",
            "align_content": null,
            "align_items": null,
            "align_self": null,
            "border": null,
            "bottom": null,
            "display": null,
            "flex": null,
            "flex_flow": null,
            "grid_area": null,
            "grid_auto_columns": null,
            "grid_auto_flow": null,
            "grid_auto_rows": null,
            "grid_column": null,
            "grid_gap": null,
            "grid_row": null,
            "grid_template_areas": null,
            "grid_template_columns": null,
            "grid_template_rows": null,
            "height": null,
            "justify_content": null,
            "justify_items": null,
            "left": null,
            "margin": null,
            "max_height": null,
            "max_width": null,
            "min_height": null,
            "min_width": null,
            "object_fit": null,
            "object_position": null,
            "order": null,
            "overflow": null,
            "overflow_x": null,
            "overflow_y": null,
            "padding": null,
            "right": null,
            "top": null,
            "visibility": null,
            "width": null
          }
        },
        "89c542df9cf04f1abfbf8a0e20c82b04": {
          "model_module": "@jupyter-widgets/controls",
          "model_name": "DescriptionStyleModel",
          "model_module_version": "1.5.0",
          "state": {
            "_model_module": "@jupyter-widgets/controls",
            "_model_module_version": "1.5.0",
            "_model_name": "DescriptionStyleModel",
            "_view_count": null,
            "_view_module": "@jupyter-widgets/base",
            "_view_module_version": "1.2.0",
            "_view_name": "StyleView",
            "description_width": ""
          }
        }
      }
    },
    "accelerator": "GPU"
  },
  "cells": [
    {
      "cell_type": "markdown",
      "metadata": {
        "id": "1D5_q5a3EbCm"
      },
      "source": [
        "Convolutional Neural Networks\n",
        "====\n",
        "\n",
        "Summary:\n",
        "- Understand the underlying motivations for convolutional networks\n",
        "- Create your own convolutional network in PyTorch\n",
        "- Train it on CIFAR data\n",
        "- Improve the training of your own network\n",
        "- Perform an hyperparameter search\n",
        "\n",
        "We fix the random seed to make things easier to debug."
      ]
    },
    {
      "cell_type": "markdown",
      "metadata": {
        "id": "7jrOBM8cEbCo"
      },
      "source": [
        "Motivation\n",
        "---"
      ]
    },
    {
      "cell_type": "markdown",
      "metadata": {
        "id": "XdjWBfwTEbCp"
      },
      "source": [
        "__Dataset__"
      ]
    },
    {
      "cell_type": "markdown",
      "metadata": {
        "id": "JCQvN-wREbCq"
      },
      "source": [
        "We consider images from the CIFAR10 dataset. It consists in 50,000 images of size 32x32, split across 10 classes. We load the train and the test set whithout forgetting to normalize the images by their per-channel mean and standard deviation. What is the batch size for train and test?"
      ]
    },
    {
      "cell_type": "code",
      "metadata": {
        "id": "3mZkOKgoEbCq",
        "colab": {
          "base_uri": "https://localhost:8080/",
          "height": 102,
          "referenced_widgets": [
            "c0665a31caea4b8e870db4ca3cbf66dc",
            "b7d14c439517443a9956583bd4784730",
            "365b367a7ba2486094b60fa2f04692b9",
            "44e0865ebe4b4d4a9a5eb6129166fe46",
            "64a494beb78345fdb7304d3f30280925",
            "79668f67ac4c4704a375a4ad92511735",
            "66f1898d2e6b48b18bee45b76097531a",
            "d1b809807ac54f00a0b59aefa0cd287c",
            "99483cfcdeb14a7bbfd21a3e082e97c8",
            "8e605a648bd84d49a6858e8f8cb807e0",
            "89c542df9cf04f1abfbf8a0e20c82b04"
          ]
        },
        "outputId": "77c36f8d-2496-4e73-d444-e23dea0218d6"
      },
      "source": [
        "import torch\n",
        "import torchvision\n",
        "import torchvision.transforms as transforms\n",
        "\n",
        "torch.manual_seed(0)\n",
        "\n",
        "transform_train = transforms.Compose([\n",
        "    transforms.ToTensor(),\n",
        "    transforms.Normalize((0.4914, 0.4822, 0.4465), (0.2023, 0.1994, 0.2010)),\n",
        "])\n",
        "# image = (image - mean) / std for each chanel\n",
        "\n",
        "transform_test = transforms.Compose([\n",
        "    transforms.ToTensor(),\n",
        "    transforms.Normalize((0.4914, 0.4822, 0.4465), (0.2023, 0.1994, 0.2010)),\n",
        "])\n",
        "\n",
        "trainset = torchvision.datasets.CIFAR10(root='./data', train=True, download=True, transform=transform_train)\n",
        "trainloader = torch.utils.data.DataLoader(trainset, batch_size=64, shuffle=True, num_workers=2)\n",
        "\n",
        "testset = torchvision.datasets.CIFAR10(root='./data', train=False, download=True, transform=transform_test)\n",
        "testloader = torch.utils.data.DataLoader(testset, batch_size=100, shuffle=False, num_workers=2)\n",
        "\n",
        "classes = ('plane', 'car', 'bird', 'cat', 'deer', 'dog', 'frog', 'horse', 'ship', 'truck')"
      ],
      "execution_count": null,
      "outputs": [
        {
          "output_type": "stream",
          "name": "stdout",
          "text": [
            "Downloading https://www.cs.toronto.edu/~kriz/cifar-10-python.tar.gz to ./data/cifar-10-python.tar.gz\n"
          ]
        },
        {
          "output_type": "display_data",
          "data": {
            "text/plain": [
              "  0%|          | 0/170498071 [00:00<?, ?it/s]"
            ],
            "application/vnd.jupyter.widget-view+json": {
              "version_major": 2,
              "version_minor": 0,
              "model_id": "c0665a31caea4b8e870db4ca3cbf66dc"
            }
          },
          "metadata": {}
        },
        {
          "output_type": "stream",
          "name": "stdout",
          "text": [
            "Extracting ./data/cifar-10-python.tar.gz to ./data\n",
            "Files already downloaded and verified\n"
          ]
        }
      ]
    },
    {
      "cell_type": "markdown",
      "metadata": {
        "id": "JopXzZelEbCt"
      },
      "source": [
        "Let's have a look at the first image. What is the size of the image? What does the first dimension represent? Can you display its label (an integer between 0 and 9)? Can you display its class?"
      ]
    },
    {
      "cell_type": "code",
      "source": [
        "batch, targets = iter(trainloader).next()\n",
        "batch.size(), targets.size()"
      ],
      "metadata": {
        "colab": {
          "base_uri": "https://localhost:8080/"
        },
        "id": "bb8zSgU7AENv",
        "outputId": "93872c94-02d7-475e-ea6d-021110c3c3ad"
      },
      "execution_count": null,
      "outputs": [
        {
          "output_type": "execute_result",
          "data": {
            "text/plain": [
              "(torch.Size([64, 3, 32, 32]), torch.Size([64]))"
            ]
          },
          "metadata": {},
          "execution_count": 2
        }
      ]
    },
    {
      "cell_type": "code",
      "metadata": {
        "id": "8HeHYle8EbCu",
        "colab": {
          "base_uri": "https://localhost:8080/"
        },
        "outputId": "0c6ec2b0-d114-4c90-e985-7d1c04c49eb8"
      },
      "source": [
        "batch, targets = iter(trainloader).next()\n",
        "image, target = batch[0], targets[0]\n",
        "print(image.size(), target, classes[target.item()])\n",
        "# Size of the image: (3, 32, 32)\n",
        "# Label of the image: 0\n",
        "# Class of the image: plane "
      ],
      "execution_count": null,
      "outputs": [
        {
          "output_type": "stream",
          "name": "stdout",
          "text": [
            "torch.Size([3, 32, 32]) tensor(0) plane\n"
          ]
        }
      ]
    },
    {
      "cell_type": "code",
      "metadata": {
        "id": "uxmoqj7ZEbCw",
        "colab": {
          "base_uri": "https://localhost:8080/",
          "height": 264
        },
        "outputId": "37c8babc-e5e0-4c8d-e2e5-3e0224af7b22"
      },
      "source": [
        "import matplotlib.pyplot as plt\n",
        "\n",
        "\n",
        "def display(image, title):\n",
        "    image = image.permute(1, 2, 0)  # image of size (32, 32, 3)\n",
        "    image -= image.min()\n",
        "    image /= image.max()\n",
        "    plt.imshow(image.numpy())\n",
        "    plt.axis('off')\n",
        "    plt.title(title)\n",
        "    plt.show()\n",
        "    \n",
        "# display the image\n",
        "display(image, f\"Class: {classes[target]}\")"
      ],
      "execution_count": null,
      "outputs": [
        {
          "output_type": "display_data",
          "data": {
            "text/plain": [
              "<Figure size 432x288 with 1 Axes>"
            ],
            "image/png": "[encoded data removed]"
          },
          "metadata": {
            "needs_background": "light"
          }
        }
      ]
    },
    {
      "cell_type": "code",
      "source": [
        "plt.imshow(image[0])"
      ],
      "metadata": {
        "colab": {
          "base_uri": "https://localhost:8080/",
          "height": 284
        },
        "id": "FHMDg5u7b08h",
        "outputId": "39c65e23-8e2b-4640-c25d-5192c823d508"
      },
      "execution_count": null,
      "outputs": [
        {
          "output_type": "execute_result",
          "data": {
            "text/plain": [
              "<matplotlib.image.AxesImage at 0x7f0422abf710>"
            ]
          },
          "metadata": {},
          "execution_count": 5
        },
        {
          "output_type": "display_data",
          "data": {
            "text/plain": [
              "<Figure size 432x288 with 1 Axes>"
            ],
            "image/png": "[encoded data removed]"
          },
          "metadata": {
            "needs_background": "light"
          }
        }
      ]
    },
    {
      "cell_type": "code",
      "source": [
        "batch[0].shape,targets[5].item(),classes[targets[5].item()]"
      ],
      "metadata": {
        "colab": {
          "base_uri": "https://localhost:8080/"
        },
        "id": "Qq925yucemxM",
        "outputId": "740d97f8-cf21-478b-c486-1a1fd4236d99"
      },
      "execution_count": null,
      "outputs": [
        {
          "output_type": "execute_result",
          "data": {
            "text/plain": [
              "(torch.Size([3, 32, 32]), 1, 'car')"
            ]
          },
          "metadata": {},
          "execution_count": 6
        }
      ]
    },
    {
      "cell_type": "code",
      "source": [
        ""
      ],
      "metadata": {
        "id": "l-0GBgoBgfPX"
      },
      "execution_count": null,
      "outputs": []
    },
    {
      "cell_type": "markdown",
      "metadata": {
        "id": "tR5NcqzQEbCy"
      },
      "source": [
        "__2D Convolutions__"
      ]
    },
    {
      "cell_type": "markdown",
      "metadata": {
        "id": "MJLDI5-1EbCz"
      },
      "source": [
        "Say you want to learn a network to classify the images into the 10 classes. It will output a vector of probabilities of size 10 for each image of size `3 x 32 x 32`. First let's consider a simple fully-connected network."
      ]
    },
    {
      "cell_type": "code",
      "metadata": {
        "id": "2ODJ_LdSEbCz"
      },
      "source": [
        "import torch.nn as nn\n",
        "\n",
        "\n",
        "class FullyConnectedNetwork(nn.Module):\n",
        "    \n",
        "    def __init__(self):\n",
        "        super(FullyConnectedNetwork, self).__init__()\n",
        "        self.fc1 = nn.Linear(3*32*32, 3*32*32)\n",
        "        self.fc2 = nn.Linear(3*32*32, 10)\n",
        "        \n",
        "    def forward(self, x):\n",
        "        x = self.fc1(x)\n",
        "        x = self.fc2(x)\n",
        "        \n",
        "        return x\n",
        "    \n",
        "\n",
        "fully_connected = FullyConnectedNetwork()"
      ],
      "execution_count": null,
      "outputs": []
    },
    {
      "cell_type": "markdown",
      "metadata": {
        "id": "V83g7yItEbC2"
      },
      "source": [
        "What are the two main disadvantages of using a single fully-connected linear layer (squared) followed by a classifier?\n",
        " \n",
        "First disadvantage: a fully connected layer will take a lot of parameters! Can you compute the size of the network?"
      ]
    },
    {
      "cell_type": "code",
      "source": [
        "sum = 0\n",
        "for name, param in fully_connected.named_parameters():\n",
        "  # how do I update sum here?\n",
        "  sum += param.numel()\n",
        "print(f\"Total number of parameters: {sum}\")"
      ],
      "metadata": {
        "colab": {
          "base_uri": "https://localhost:8080/"
        },
        "id": "KihHf87YC7x8",
        "outputId": "e338ca59-f6bb-4ce4-e68b-ceffe3747fff"
      },
      "execution_count": null,
      "outputs": [
        {
          "output_type": "stream",
          "name": "stdout",
          "text": [
            "Total number of parameters: 9470986\n"
          ]
        }
      ]
    },
    {
      "cell_type": "code",
      "source": [
        "# what is the size of the network, in MB, on disk, assuming fp32 numbers?\n",
        "# 1 fp32 number is stored in 32 bits = 4 bytes\n",
        "# 1 bit = 0 or 1 \n",
        "# 1 byte = 8 bits \n",
        "# 32 bits = 4 bytes \n",
        "\n",
        "print(f\"Size of the network = {sum * 4 / 1024 / 1024:.0f} MB\")"
      ],
      "metadata": {
        "colab": {
          "base_uri": "https://localhost:8080/"
        },
        "id": "Lvmxx4h4EIEk",
        "outputId": "9bb34882-9e46-49a6-a0aa-2618f20d41cc"
      },
      "execution_count": null,
      "outputs": [
        {
          "output_type": "stream",
          "name": "stdout",
          "text": [
            "Size of the network = 36 MB\n"
          ]
        }
      ]
    },
    {
      "cell_type": "code",
      "metadata": {
        "id": "DZ4l3YyGEbC2"
      },
      "source": [
        "# compute number of parameters / size in KB"
      ],
      "execution_count": null,
      "outputs": []
    },
    {
      "cell_type": "markdown",
      "metadata": {
        "id": "L0GOfBXWEbC4"
      },
      "source": [
        "Second disadvantage: the fully connected layer does not take the structure of the image into account. Nearby pixels are highly correlated. \n",
        "\n",
        "That's why we will use convolutions.In the next illustration, we consider a 2D convolution.\n",
        "- The blue image is called the _input_ image\n",
        "- The green image is called the _output_ image \n",
        "- The convolutional filter has a size `3x3` that is called the _kernel size_\n",
        "\n",
        "Here, convolutions are performed by successively considering areas of size `3x3` and applying the kernel to it. Applying the kernel consists in summing the element-wise product of the kernel and the input image area to get a single output number."
      ]
    },
    {
      "cell_type": "code",
      "metadata": {
        "id": "WQbpjgZxEbC5",
        "colab": {
          "base_uri": "https://localhost:8080/",
          "height": 470
        },
        "outputId": "aeb89f6d-61a0-4f57-ac25-043e139a41f0"
      },
      "source": [
        "from IPython.display import HTML\n",
        "HTML('<img src=\"https://miro.medium.com/max/790/1*1okwhewf5KCtIPaFib4XaA.gif\">')"
      ],
      "execution_count": null,
      "outputs": [
        {
          "output_type": "execute_result",
          "data": {
            "text/plain": [
              "<IPython.core.display.HTML object>"
            ],
            "text/html": [
              "<img src=\"https://miro.medium.com/max/790/1*1okwhewf5KCtIPaFib4XaA.gif\">"
            ]
          },
          "metadata": {},
          "execution_count": 11
        }
      ]
    },
    {
      "cell_type": "markdown",
      "metadata": {
        "id": "lJsLtIheEbC7"
      },
      "source": [
        "Let's consider a very simple kernel. Can you compute by hand the result of the convolution of the kernel by the input matrix? What is the size of the resulting output matrix?"
      ]
    },
    {
      "cell_type": "code",
      "metadata": {
        "id": "q79vDR87EbC7",
        "colab": {
          "base_uri": "https://localhost:8080/"
        },
        "outputId": "1e1b6470-0f80-4505-f7f8-7f6ec9b861fb"
      },
      "source": [
        "import torch.nn.functional as F\n",
        "\n",
        "\n",
        "kernel = torch.Tensor([\n",
        "    [1, 2, 1],\n",
        "    [2, 4, 2],\n",
        "    [1, 2, 1]])\n",
        "\n",
        "input_matrix = torch.Tensor([\n",
        "    [0, 0, 0, 1, 0],\n",
        "    [0, 1, 0, 1, 0],\n",
        "    [0, 0, 2, 1, 0],\n",
        "    [0, 0, 0, 0, 3],\n",
        "    [0, 0, 0, 1, 0],\n",
        "])\n",
        "\n",
        "# if we use a kernel of size 2x2, what's the output size?\n",
        "\n",
        "# step 1:\n",
        "# kernel sees \n",
        "# [0, 0, 0]\n",
        "# [0, 1, 0]\n",
        "# [0, 0 ,2]\n",
        "# result = 6\n",
        "\n",
        "# step 1:\n",
        "# kernel sees \n",
        "# [0, 0, 1]\n",
        "# [1, 0, 1]\n",
        "# [0, 2, 1]\n",
        "# result = 10\n",
        "\n",
        "print('Kernel')\n",
        "print(kernel)\n",
        "print('Input matrix')\n",
        "print(input_matrix)\n",
        "print('Output matrix')\n",
        "print(F.conv2d(input_matrix.unsqueeze(0).unsqueeze(0), kernel.unsqueeze(0).unsqueeze(0)))"
      ],
      "execution_count": null,
      "outputs": [
        {
          "output_type": "stream",
          "name": "stdout",
          "text": [
            "Kernel\n",
            "tensor([[1., 2., 1.],\n",
            "        [2., 4., 2.],\n",
            "        [1., 2., 1.]])\n",
            "Input matrix\n",
            "tensor([[0., 0., 0., 1., 0.],\n",
            "        [0., 1., 0., 1., 0.],\n",
            "        [0., 0., 2., 1., 0.],\n",
            "        [0., 0., 0., 0., 3.],\n",
            "        [0., 0., 0., 1., 0.]])\n",
            "Output matrix\n",
            "tensor([[[[ 6., 10., 10.],\n",
            "          [ 6., 12., 13.],\n",
            "          [ 2.,  6., 12.]]]])\n"
          ]
        }
      ]
    },
    {
      "cell_type": "markdown",
      "metadata": {
        "id": "ihacl5p1EbC9"
      },
      "source": [
        "Now let's add some padding! It consists in adding zeros at each border of the image. What is the result? What is the size of the resulting image?"
      ]
    },
    {
      "cell_type": "code",
      "metadata": {
        "id": "Au9IQxd0EbC-",
        "colab": {
          "base_uri": "https://localhost:8080/"
        },
        "outputId": "0848adbb-f48d-4902-d79f-d929bd924670"
      },
      "source": [
        "kernel = torch.Tensor([\n",
        "    [1, 2, 1],\n",
        "    [2, 4, 2],\n",
        "    [1, 2, 1]])\n",
        "\n",
        "input_matrix = torch.Tensor([\n",
        "    [0, 0, 0, 1, 0],\n",
        "    [0, 1, 0, 1, 0],\n",
        "    [0, 0, 2, 1, 0],\n",
        "    [0, 0, 0, 0, 3],\n",
        "    [0, 0, 0, 1, 0],\n",
        "])\n",
        "# input matrix is 5x5. when padded, it's 7x7. Output would be 5x5\n",
        "\n",
        "input_matrix_padded = torch.Tensor([\n",
        "    [0, 0, 0, 0, 0, 0, 0],\n",
        "    [0, 0, 0, 0, 1, 0, 0],\n",
        "    [0, 0, 1, 0, 1, 0, 0],\n",
        "    [0, 0, 0, 2, 1, 0, 0],\n",
        "    [0, 0, 0, 0, 0, 3, 0],\n",
        "    [0, 0, 0, 0, 1, 0, 0],\n",
        "    [0, 0, 0, 0, 0, 0, 0],\n",
        "])\n",
        "\n",
        "print('Kernel')\n",
        "print(kernel)\n",
        "print('Input matrix')\n",
        "print(input_matrix)\n",
        "print('Padded input matrix')\n",
        "print(F.pad(input_matrix, (1, 1, 1, 1)))\n",
        "print('Output matrix')\n",
        "print(F.conv2d(input_matrix.unsqueeze(0).unsqueeze(0), kernel.unsqueeze(0).unsqueeze(0), padding=(1,1)))"
      ],
      "execution_count": null,
      "outputs": [
        {
          "output_type": "stream",
          "name": "stdout",
          "text": [
            "Kernel\n",
            "tensor([[1., 2., 1.],\n",
            "        [2., 4., 2.],\n",
            "        [1., 2., 1.]])\n",
            "Input matrix\n",
            "tensor([[0., 0., 0., 1., 0.],\n",
            "        [0., 1., 0., 1., 0.],\n",
            "        [0., 0., 2., 1., 0.],\n",
            "        [0., 0., 0., 0., 3.],\n",
            "        [0., 0., 0., 1., 0.]])\n",
            "Padded input matrix\n",
            "tensor([[0., 0., 0., 0., 0., 0., 0.],\n",
            "        [0., 0., 0., 0., 1., 0., 0.],\n",
            "        [0., 0., 1., 0., 1., 0., 0.],\n",
            "        [0., 0., 0., 2., 1., 0., 0.],\n",
            "        [0., 0., 0., 0., 0., 3., 0.],\n",
            "        [0., 0., 0., 0., 1., 0., 0.],\n",
            "        [0., 0., 0., 0., 0., 0., 0.]])\n",
            "Output matrix\n",
            "tensor([[[[ 1.,  2.,  4.,  6.,  3.],\n",
            "          [ 2.,  6., 10., 10.,  4.],\n",
            "          [ 1.,  6., 12., 13.,  9.],\n",
            "          [ 0.,  2.,  6., 12., 14.],\n",
            "          [ 0.,  0.,  2.,  7.,  8.]]]])\n"
          ]
        }
      ]
    },
    {
      "cell_type": "markdown",
      "metadata": {
        "id": "yMC_B03mEbC_"
      },
      "source": [
        "Convolutions can help in a lot of ways! Let's consider three particular kernels and apply it on an image. Can you write the code to do it? What is the effect? What is the first kernel doing? The second one? Why? Can you change the second kernel to get the vertical edges? What os the mystery kernel doing?"
      ]
    },
    {
      "cell_type": "code",
      "metadata": {
        "id": "UtKliKDFEbDA"
      },
      "source": [
        "import torch.nn.functional as F\n",
        "\n",
        "\n",
        "def apply_conv(image, kernel):\n",
        "    return F.conv2d(torch.Tensor(image).unsqueeze(0).unsqueeze(0), \n",
        "                    kernel.unsqueeze(0).unsqueeze(0)).squeeze().numpy()"
      ],
      "execution_count": null,
      "outputs": []
    },
    {
      "cell_type": "code",
      "source": [
        ""
      ],
      "metadata": {
        "id": "jiHa2ypjKwHf"
      },
      "execution_count": null,
      "outputs": []
    },
    {
      "cell_type": "code",
      "metadata": {
        "id": "0P5R9S6OEbDD",
        "colab": {
          "base_uri": "https://localhost:8080/",
          "height": 590
        },
        "outputId": "b170179a-4d97-4d44-c897-e2a34dabec30"
      },
      "source": [
        "from skimage import data, img_as_float\n",
        "\n",
        "\n",
        "blurr_kernel =  1 / 100 * torch.ones(10, 10)\n",
        "blurr_kernel =  1 / 25 * torch.ones(5, 5)\n",
        "blurr_kernel =  1 / (20*20) * torch.ones(20, 20)\n",
        "edge_kernel =  torch.Tensor([\n",
        "    [-1, -2, -1],\n",
        "    [0, 0, 0],\n",
        "    [1, 2, 1]])\n",
        "mystery_kernel = torch.Tensor([\n",
        "    [0, 0, 0],\n",
        "    [0, 1, 0],\n",
        "    [0, 0, 0]\n",
        "])\n",
        "\n",
        "\n",
        "input_image = img_as_float(data.camera())\n",
        "# compute the convolution of each kernel with input_image and apply_conv\n",
        "blurr_image = apply_conv(input_image, blurr_kernel) \n",
        "edge_image = apply_conv(input_image, edge_kernel) \n",
        "mystery_image = apply_conv(input_image, mystery_kernel) \n",
        "\n",
        "plt.figure(figsize=(10, 10))\n",
        "plt.subplot(221)\n",
        "plt.imshow(input_image, cmap='gray')\n",
        "plt.title('Original image')\n",
        "plt.axis('off')\n",
        "\n",
        "plt.subplot(222)\n",
        "plt.imshow(blurr_image, cmap='gray')\n",
        "plt.title('Blurr kernel image')\n",
        "plt.axis('off')\n",
        "\n",
        "plt.subplot(223)\n",
        "plt.imshow(edge_image, cmap='gray')\n",
        "plt.title('Edge kernel image')\n",
        "plt.axis('off')\n",
        "\n",
        "plt.subplot(224)\n",
        "plt.imshow(mystery_image, cmap='gray')\n",
        "plt.title('Mystery image')\n",
        "plt.axis('off')\n",
        "\n",
        "plt.show()\n",
        "\n",
        "# what if the kernel has the size of the image?\n",
        "# - output size -> 1x1\n",
        "# - output value -> average pixel value\n",
        "\n",
        "# what does the edge kernel do -> horizontal edge detection. Why?\n",
        "# edge_kernel =  torch.Tensor([\n",
        "#     [-1, -2, -1],\n",
        "#     [0, 0, 0],\n",
        "#     [1, 2, 1]])\n",
        "\n",
        "# if the image is constant, what's the result -> 0\n",
        "# if there is a sudden change (above is negative, below positive)\n",
        "\n",
        "# what is the mystery kernel doing? Shift the image "
      ],
      "execution_count": null,
      "outputs": [
        {
          "output_type": "display_data",
          "data": {
            "text/plain": [
              "<Figure size 720x720 with 4 Axes>"
            ],
            "image/png": "[encoded data removed]"
          },
          "metadata": {
            "needs_background": "light"
          }
        }
      ]
    },
    {
      "cell_type": "markdown",
      "metadata": {
        "id": "LnkWBWLNEbDF"
      },
      "source": [
        "__3D convolutions__\n",
        "\n",
        "3D convolutions work exactly the same as 2D convolutions, except that the convolutions operate on 3D tensors (like images) with 3D filters. \n",
        "\n",
        "<font color=blue>Important conventions of notation</font>:\n",
        "- Image of size `C_in x H x W` (input channels x height x width)\n",
        "- `C_out` (output channels) filters of size `C_in x k x k` (input channels x kernel size x kernel size)"
      ]
    },
    {
      "cell_type": "code",
      "metadata": {
        "id": "plyc7pZOEbDF",
        "colab": {
          "base_uri": "https://localhost:8080/",
          "height": 34
        },
        "outputId": "018367ae-5d10-4eb9-de14-e33a2f88e027"
      },
      "source": [
        "from IPython.display import HTML\n",
        "HTML('<img src=\"https://predictiveprogrammer.com/wp-content/uploads/2018/06/convolve.gif\">')"
      ],
      "execution_count": null,
      "outputs": [
        {
          "output_type": "execute_result",
          "data": {
            "text/plain": [
              "<IPython.core.display.HTML object>"
            ],
            "text/html": [
              "<img src=\"https://predictiveprogrammer.com/wp-content/uploads/2018/06/convolve.gif\">"
            ]
          },
          "metadata": {},
          "execution_count": 16
        }
      ]
    },
    {
      "cell_type": "markdown",
      "metadata": {
        "id": "RPfK4gVUEbDH"
      },
      "source": [
        "Question: with a kernel size of `k = 3` and a padding of `1`, if the input has size `C_in x H x W` and the filters have size `C_out x C_in x k x k`,  what is the size of the output?\n",
        "\n",
        "It is `C_out x H x W`."
      ]
    },
    {
      "cell_type": "markdown",
      "metadata": {
        "id": "bMLIW0W8EbDI"
      },
      "source": [
        "Define your own network\n",
        "---\n",
        "\n",
        "So far, we've understood how convolutions work and got a sense of their effectiveness (both in terms of parameters and ability to compute seemingly difficult operations such as detecting the edges). Now let's build a network!\n",
        "\n",
        "The structure of the network is:\n",
        "\n",
        "- Convolutional layer with 3 input filters, 32 output filters, kernel of size 5x5\n",
        "- ReLU\n",
        "- Convolutional layer with 32 input filters, 32 output filters, kernel of size 3x3\n",
        "- ReLU\n",
        "- Max pooling with kernel size 2x2\n",
        "- Convolutional layer with 32 input filters, 64 output filters, kernel of size 3x3\n",
        "- ReLU\n",
        "- Convolutional layer with 64 input filters, 64 boutput filters, kernel of size 3x3\n",
        "- ReLU\n",
        "- Max pooling with kernel size 2x2\n",
        "- Classifier of size ?? x 10 (you have to find the first dimension)\n",
        "\n",
        "\n",
        "MaxPooling is taking the max along a receptive field of size `k x k` (see PyTorch documentation). To handle properly the Conv2d, see also PyTorch documentation. Print the sizes at each step, this will help you! Use `F.relu` for the ReLU!"
      ]
    },
    {
      "cell_type": "code",
      "metadata": {
        "id": "dfyNlMLWEbDJ",
        "colab": {
          "base_uri": "https://localhost:8080/"
        },
        "outputId": "5bcc8690-2ee1-4b93-f68c-c1e589dac271"
      },
      "source": [
        "import torch.nn as nn\n",
        "import torch.nn.functional as F\n",
        "\n",
        "\n",
        "class SimpleNet(nn.Module):\n",
        "    \n",
        "    def __init__(self):\n",
        "        super(SimpleNet, self).__init__()\n",
        "        self.conv1 = nn.Conv2d(3, 32, 5)\n",
        "        self.conv2 = nn.Conv2d(32, 32, 3) \n",
        "        self.conv3 = nn.Conv2d(32, 64, 3)\n",
        "        self.conv4 = nn.Conv2d(64, 64, 3)\n",
        "        self.pool1 = nn.MaxPool2d(3)\n",
        "        self.pool2 = nn.MaxPool2d(4)\n",
        "        self.fc = nn.Linear(64, 10) # <- what should we write there?\n",
        "        \n",
        "    def forward(self, x):\n",
        "        x = F.relu(self.conv1(x))  #F.relu is taking the relu\n",
        "        x = F.relu(self.conv2(x))\n",
        "        x = self.pool1(x)\n",
        "        x = F.relu(self.conv3(x))\n",
        "        x = F.relu(self.conv4(x))\n",
        "        #print(x.size(), 'before last pool')\n",
        "        x = self.pool2(x)\n",
        "        # pool receives (batch_size, C, H, W)\n",
        "        # pooling reduces the spatial (H, W) dimension of the image\n",
        "        #print(x.size(), 'after last pool')\n",
        "        # x size here is [1, 64, 1, 1]\n",
        "        x = x.view(-1, 64) # why are we doing a x.view()\n",
        "        # x size here is [1, 64]\n",
        "        # self.fc needs input of size (batch_size, in_features)\n",
        "        x = self.fc(x)\n",
        "        \n",
        "        return x\n",
        "    \n",
        "net = SimpleNet()  # instantiating the class, hence the network\n",
        "# calls __init__()\n",
        "print(net)\n",
        "\n",
        "# test to pass\n",
        "x = torch.rand(128, 3, 32, 32)\n",
        "y = net(x)  # this should work!!! -> same as net.forward(x)\n",
        "# what will be y.size() -> 128 x 10"
      ],
      "execution_count": null,
      "outputs": [
        {
          "output_type": "stream",
          "name": "stdout",
          "text": [
            "SimpleNet(\n",
            "  (conv1): Conv2d(3, 32, kernel_size=(5, 5), stride=(1, 1))\n",
            "  (conv2): Conv2d(32, 32, kernel_size=(3, 3), stride=(1, 1))\n",
            "  (conv3): Conv2d(32, 64, kernel_size=(3, 3), stride=(1, 1))\n",
            "  (conv4): Conv2d(64, 64, kernel_size=(3, 3), stride=(1, 1))\n",
            "  (pool1): MaxPool2d(kernel_size=3, stride=3, padding=0, dilation=1, ceil_mode=False)\n",
            "  (pool2): MaxPool2d(kernel_size=4, stride=4, padding=0, dilation=1, ceil_mode=False)\n",
            "  (fc): Linear(in_features=64, out_features=10, bias=True)\n",
            ")\n"
          ]
        }
      ]
    },
    {
      "cell_type": "code",
      "source": [
        "pool = nn.MaxPool2d(3)\n",
        "x = torch.rand(4, 2, 6, 6)\n",
        "pool(x).size()\n",
        "# in a network, generally, going up:\n",
        "# increase number of channels\n",
        "# reduce spatial dimension"
      ],
      "metadata": {
        "id": "lqCdOOkhWrer",
        "colab": {
          "base_uri": "https://localhost:8080/"
        },
        "outputId": "2fa5d2f6-5d7f-48c1-cd4e-18cccaf227e5"
      },
      "execution_count": null,
      "outputs": [
        {
          "output_type": "execute_result",
          "data": {
            "text/plain": [
              "torch.Size([4, 2, 2, 2])"
            ]
          },
          "metadata": {},
          "execution_count": 18
        }
      ]
    },
    {
      "cell_type": "markdown",
      "metadata": {
        "id": "M6xwrntAEbDK"
      },
      "source": [
        "\n",
        "Can you forward an image to the network? What does it output? How many parameters does the network have? How does it compare with the parameters of the fully connected architecture decribed below? "
      ]
    },
    {
      "cell_type": "code",
      "source": [
        "\n",
        "net.parameters()"
      ],
      "metadata": {
        "id": "ptDLSKJAYB1c",
        "colab": {
          "base_uri": "https://localhost:8080/"
        },
        "outputId": "43545cb5-75d0-433e-ce3f-dbd2869dfb27"
      },
      "execution_count": null,
      "outputs": [
        {
          "output_type": "execute_result",
          "data": {
            "text/plain": [
              "<generator object Module.parameters at 0x7f0318114d50>"
            ]
          },
          "metadata": {},
          "execution_count": 19
        }
      ]
    },
    {
      "cell_type": "code",
      "metadata": {
        "id": "PTzBc4_GEbDL",
        "colab": {
          "base_uri": "https://localhost:8080/"
        },
        "outputId": "89f6e871-18ac-4533-8cbd-9886e6652c82"
      },
      "source": [
        "import numpy as np\n",
        "\n",
        "# NEVER CALL A VARIABLE SUM \n",
        "# print number of parameters and compare it with the fully connected network!\n",
        "sum_conv = np.sum([p.numel() for p in net.parameters()])\n",
        "print(f\"{sum_conv} parameters\")\n",
        "print(f\"{sum_conv * 4 / 1024:.2f} KB disk size\")"
      ],
      "execution_count": null,
      "outputs": [
        {
          "output_type": "stream",
          "name": "stdout",
          "text": [
            "67754 parameters\n",
            "264.66 KB disk size\n"
          ]
        }
      ]
    },
    {
      "cell_type": "markdown",
      "metadata": {
        "id": "YtvRuxrIEbDN"
      },
      "source": [
        "Train your own network\n",
        "---"
      ]
    },
    {
      "cell_type": "markdown",
      "metadata": {
        "id": "W-EOlFL-EbDN"
      },
      "source": [
        "One single pass over the whole training set is called an _epoch_. An epoch consists in iterations, each iteration corresponds to the pass of one single batch."
      ]
    },
    {
      "cell_type": "code",
      "metadata": {
        "id": "uVrpdnUeEbDO"
      },
      "source": [
        "import numpy as np\n",
        "\n",
        "\n",
        "# top1 accuracy is the percentage of exact match between prediction and target\n",
        "# top5 accuracy is the percentage of times the prediction is amont the t\n",
        "def accuracy(output, target, topk=(1,)):\n",
        "    with torch.no_grad():\n",
        "        maxk = max(topk)\n",
        "        batch_size = target.size(0)\n",
        "\n",
        "        _, pred = output.topk(maxk, 1, True, True)\n",
        "        pred = pred.t()\n",
        "        correct = pred.eq(target.view(1, -1).expand_as(pred))\n",
        "\n",
        "        res = []\n",
        "        for k in topk:\n",
        "            correct_k = correct[:k].view(-1).float().sum(0, keepdim=True)\n",
        "            res.append(correct_k)\n",
        "        return np.sum(res)\n",
        "\n",
        "# accuracy(outputs, targets), outputs.size(0)"
      ],
      "execution_count": null,
      "outputs": []
    },
    {
      "cell_type": "code",
      "source": [
        "device = torch.device('cuda:1') "
      ],
      "metadata": {
        "id": "DB0nyoNTpZoh"
      },
      "execution_count": null,
      "outputs": []
    },
    {
      "cell_type": "code",
      "source": [
        ""
      ],
      "metadata": {
        "id": "93BsOLegpdqe"
      },
      "execution_count": null,
      "outputs": []
    },
    {
      "cell_type": "code",
      "source": [
        "# x = torch.rand(10, 10).to(device)"
      ],
      "metadata": {
        "id": "FHGl1lcPoul-"
      },
      "execution_count": null,
      "outputs": []
    },
    {
      "cell_type": "code",
      "source": [
        "!nvidia-smi"
      ],
      "metadata": {
        "id": "f3n2TBa3n_RH",
        "colab": {
          "base_uri": "https://localhost:8080/"
        },
        "outputId": "6a5b2720-71d8-4c9c-be75-e3dfd77e1d32"
      },
      "execution_count": null,
      "outputs": [
        {
          "output_type": "stream",
          "name": "stdout",
          "text": [
            "Wed Mar 23 00:39:26 2022       \n",
            "+-----------------------------------------------------------------------------+\n",
            "| NVIDIA-SMI 460.32.03    Driver Version: 460.32.03    CUDA Version: 11.2     |\n",
            "|-------------------------------+----------------------+----------------------+\n",
            "| GPU  Name        Persistence-M| Bus-Id        Disp.A | Volatile Uncorr. ECC |\n",
            "| Fan  Temp  Perf  Pwr:Usage/Cap|         Memory-Usage | GPU-Util  Compute M. |\n",
            "|                               |                      |               MIG M. |\n",
            "|===============================+======================+======================|\n",
            "|   0  Tesla K80           Off  | 00000000:00:04.0 Off |                    0 |\n",
            "| N/A   64C    P8    30W / 149W |      0MiB / 11441MiB |      0%      Default |\n",
            "|                               |                      |                  N/A |\n",
            "+-------------------------------+----------------------+----------------------+\n",
            "                                                                               \n",
            "+-----------------------------------------------------------------------------+\n",
            "| Processes:                                                                  |\n",
            "|  GPU   GI   CI        PID   Type   Process name                  GPU Memory |\n",
            "|        ID   ID                                                   Usage      |\n",
            "|=============================================================================|\n",
            "|  No running processes found                                                 |\n",
            "+-----------------------------------------------------------------------------+\n"
          ]
        }
      ]
    },
    {
      "cell_type": "code",
      "metadata": {
        "scrolled": true,
        "id": "aIs1663NEbDQ",
        "colab": {
          "base_uri": "https://localhost:8080/"
        },
        "outputId": "8bb15df7-f73e-4275-c813-fece13994cdd"
      },
      "source": [
        "net = SimpleNet().cuda()\n",
        "criterion = nn.CrossEntropyLoss()\n",
        "optimizer = torch.optim.SGD(net.parameters(), lr=0.01, momentum=0.9, weight_decay=1e-3)\n",
        "device = torch.device('cuda:0')  # will give you the first available device\n",
        "\n",
        "#TAKEAWAY:\n",
        "# convs are efficient in terms of parameters\n",
        "# convs are well suited for images (eg edge detection)\n",
        "# fill out the trainng loop\n",
        "\n",
        "\n",
        "# loop over the dataset multiple times\n",
        "for epoch in range(15):\n",
        "    print('Epoch: {}'.format(epoch))\n",
        "    \n",
        "    # train for 1 epoch on the train set\n",
        "    correct = 0\n",
        "    for i, (batch, targets) in enumerate(trainloader):\n",
        "        \n",
        "        # batch and targets to cuda \n",
        "        batch = batch.to(device)\n",
        "        targets = targets.to(device)\n",
        "\n",
        "        # zero the parameter gradients\n",
        "        optimizer.zero_grad()\n",
        "\n",
        "        # forward \n",
        "        outputs = net(batch)  # output = net.forward(batch)\n",
        "        loss = criterion(outputs, targets)\n",
        "\n",
        "        # backward\n",
        "        loss.backward()\n",
        "\n",
        "        # gradient step \n",
        "        optimizer.step()\n",
        "        # can you write optimizer.step() explicitly, assuming plain SGD?\n",
        "        # what is the SGD formula?\n",
        "        # new_params = old_params - lr * gradient \n",
        "        # for p in net.parameters():\n",
        "        #   p.data -= lr * p.grad\n",
        "        # compute accuracy \n",
        "        correct += accuracy(outputs.cpu(), targets.cpu()).item()\n",
        "\n",
        "    top_1 = correct / len(trainset) * 100\n",
        "    print('Train accuracy: {:.2f}%'.format(top_1))\n",
        "            \n",
        "    # evaluate on the test set  \n",
        "    with torch.no_grad():  # weights are fixed, no gradients \n",
        "        correct = 0\n",
        "        for i, (batch, targets) in enumerate(testloader):\n",
        "\n",
        "            # batch and targets to cuda \n",
        "            batch = batch.to(device)\n",
        "            targets = targets.to(device)\n",
        "\n",
        "            # forward \n",
        "            outputs = net(batch)\n",
        "            # why we don't need to compute the loss when evaluating?\n",
        "    \n",
        "            # compute accuracy \n",
        "            correct += accuracy(outputs.cpu(), targets.cpu()).item()\n",
        "     \n",
        "    top_1 = correct / len(testset) * 100\n",
        "    print('Test accuracy: {:.2f}%'.format(top_1))\n"
      ],
      "execution_count": null,
      "outputs": [
        {
          "output_type": "stream",
          "name": "stdout",
          "text": [
            "Epoch: 0\n"
          ]
        },
        {
          "output_type": "stream",
          "name": "stderr",
          "text": [
            "/usr/local/lib/python3.7/dist-packages/numpy/core/fromnumeric.py:86: FutureWarning: The input object of type 'Tensor' is an array-like implementing one of the corresponding protocols (`__array__`, `__array_interface__` or `__array_struct__`); but not a sequence (or 0-D). In the future, this object will be coerced as if it was first converted using `np.array(obj)`. To retain the old behaviour, you have to either modify the type 'Tensor', or assign to an empty array created with `np.empty(correct_shape, dtype=object)`.\n",
            "  return ufunc.reduce(obj, axis, dtype, out, **passkwargs)\n"
          ]
        },
        {
          "output_type": "stream",
          "name": "stdout",
          "text": [
            "Train accuracy: 35.21%\n",
            "Test accuracy: 46.71%\n",
            "Epoch: 1\n",
            "Train accuracy: 54.05%\n",
            "Test accuracy: 59.48%\n",
            "Epoch: 2\n",
            "Train accuracy: 62.30%\n",
            "Test accuracy: 64.99%\n",
            "Epoch: 3\n",
            "Train accuracy: 66.86%\n",
            "Test accuracy: 67.19%\n",
            "Epoch: 4\n",
            "Train accuracy: 69.42%\n",
            "Test accuracy: 66.97%\n",
            "Epoch: 5\n",
            "Train accuracy: 71.61%\n",
            "Test accuracy: 69.72%\n",
            "Epoch: 6\n",
            "Train accuracy: 73.33%\n",
            "Test accuracy: 70.19%\n",
            "Epoch: 7\n",
            "Train accuracy: 74.60%\n",
            "Test accuracy: 70.14%\n",
            "Epoch: 8\n",
            "Train accuracy: 75.70%\n",
            "Test accuracy: 69.33%\n",
            "Epoch: 9\n",
            "Train accuracy: 76.52%\n",
            "Test accuracy: 71.82%\n",
            "Epoch: 10\n",
            "Train accuracy: 77.32%\n",
            "Test accuracy: 71.26%\n",
            "Epoch: 11\n",
            "Train accuracy: 78.01%\n",
            "Test accuracy: 71.95%\n",
            "Epoch: 12\n",
            "Train accuracy: 78.63%\n",
            "Test accuracy: 72.38%\n",
            "Epoch: 13\n",
            "Train accuracy: 78.99%\n",
            "Test accuracy: 70.90%\n",
            "Epoch: 14\n",
            "Train accuracy: 79.49%\n",
            "Test accuracy: 71.34%\n"
          ]
        }
      ]
    },
    {
      "cell_type": "markdown",
      "metadata": {
        "id": "2t1ChtKPEbDT"
      },
      "source": [
        "Can you display the probability vector given by the network for a particular image that is well classified? Misclassified? Run this cell many times to see different results and comment on them!"
      ]
    },
    {
      "cell_type": "code",
      "metadata": {
        "id": "3tM6giTbEbDV",
        "colab": {
          "base_uri": "https://localhost:8080/"
        },
        "outputId": "71824121-0d78-4d19-99d4-d8de0f14a19c"
      },
      "source": [
        "batch, targets = iter(trainloader).next()\n",
        "image, target = batch[0], targets[0]\n",
        "print('Size of the image: {}, class: {}\\n'.format(image.size(), classes[target]))\n",
        "\n",
        "outputs = net(image.cuda().unsqueeze(0))\n",
        "probs = [float('{:.2f}'.format(p.item())) for p in F.softmax(outputs, dim=1).squeeze()]\n",
        "print('Predicted classes with probabilities:')\n",
        "print(dict(zip(classes, probs)))"
      ],
      "execution_count": null,
      "outputs": [
        {
          "output_type": "stream",
          "name": "stdout",
          "text": [
            "Size of the image: torch.Size([3, 32, 32]), class: frog\n",
            "\n",
            "Predicted classes with probabilities:\n",
            "{'plane': 0.0, 'car': 0.0, 'bird': 0.02, 'cat': 0.0, 'deer': 0.0, 'dog': 0.0, 'frog': 0.98, 'horse': 0.0, 'ship': 0.0, 'truck': 0.0}\n"
          ]
        }
      ]
    },
    {
      "cell_type": "markdown",
      "metadata": {
        "id": "YnEdBvJ5EbDY"
      },
      "source": [
        "Improve the training of your own network\n",
        "----"
      ]
    },
    {
      "cell_type": "markdown",
      "metadata": {
        "id": "qKzFgGGoEbDZ"
      },
      "source": [
        "Neural networks are data hungry (think of a ResNet trained on the 1,200,000 images of ImageNet!). To simulate having more data without collecting it, we perform data augmentation:\n",
        "- [RandomCrops](https://pytorch.org/docs/stable/torchvision/transforms.html#torchvision.transforms.RandomCrop)\n",
        "- [RandomFlips](https://pytorch.org/docs/stable/torchvision/transforms.html#torchvision.transforms.RandomHorizontalFlip)\n",
        "\n",
        "See the PyTorch documentation for more detail!"
      ]
    },
    {
      "cell_type": "code",
      "metadata": {
        "id": "9MlnuxFcEbDa",
        "colab": {
          "base_uri": "https://localhost:8080/"
        },
        "outputId": "af6ec8d1-8925-4894-95cd-64d0463eab00"
      },
      "source": [
        "transform_train = transforms.Compose([\n",
        "#     transforms.RandomCrop(32, padding=4),\n",
        "    transforms.RandomHorizontalFlip(),\n",
        "    transforms.ToTensor(),\n",
        "    transforms.Normalize((0.4914, 0.4822, 0.4465), (0.2023, 0.1994, 0.2010)),\n",
        "])\n",
        "\n",
        "trainset = torchvision.datasets.CIFAR10(root='./data', train=True, download=True, transform=transform_train)\n",
        "augmented_trainloader = torch.utils.data.DataLoader(trainset, batch_size=128, shuffle=True, num_workers=2)"
      ],
      "execution_count": null,
      "outputs": [
        {
          "output_type": "stream",
          "name": "stdout",
          "text": [
            "Files already downloaded and verified\n"
          ]
        }
      ]
    },
    {
      "cell_type": "markdown",
      "metadata": {
        "id": "gSvzXalxEbDb"
      },
      "source": [
        "Train again the network!"
      ]
    },
    {
      "cell_type": "code",
      "metadata": {
        "scrolled": true,
        "id": "OxFMh1ViEbDc"
      },
      "source": [
        ""
      ],
      "execution_count": null,
      "outputs": []
    },
    {
      "cell_type": "markdown",
      "metadata": {
        "id": "fqB9Ilx-EbDe"
      },
      "source": [
        "Hyperparameter search\n",
        "----"
      ]
    },
    {
      "cell_type": "markdown",
      "metadata": {
        "id": "iWoUKE34EbDe"
      },
      "source": [
        "Can you try to get a better performance when:\n",
        "- Adding more layers to the network \n",
        "- Tuning the learning rate \n",
        "- Training during more epochs \n",
        "- Adding BatchNorm layers after the convolution layers to normalize the activaitons\n",
        "- Divide the learning rate by 10 after 10 epochs "
      ]
    },
    {
      "cell_type": "code",
      "source": [
        "# training mode versus eval mode \n",
        "# what is the difference between training and eval mode on a network?\n",
        "\n",
        "small_net = nn.Dropout(p=0.5)\n",
        "small_net.eval()\n",
        "print(f\"Mode : {small_net.training}\")\n",
        "x = torch.rand(2, 5)\n",
        "small_net(x)\n",
        "\n",
        "# do you know any other layer that does behave differently in train and val?\n",
        "small_net = nn.BatchNorm1d(5)\n",
        "small_net(x)"
      ],
      "metadata": {
        "id": "Sm9sKoHIxPtt",
        "colab": {
          "base_uri": "https://localhost:8080/"
        },
        "outputId": "60e1722c-9b48-43c8-b8d0-66efda3ea319"
      },
      "execution_count": null,
      "outputs": [
        {
          "output_type": "stream",
          "name": "stdout",
          "text": [
            "Mode : False\n"
          ]
        },
        {
          "output_type": "execute_result",
          "data": {
            "text/plain": [
              "tensor([[-0.9998, -0.9857, -0.9999,  0.9999, -1.0000],\n",
              "        [ 0.9998,  0.9857,  0.9999, -0.9999,  1.0000]],\n",
              "       grad_fn=<NativeBatchNormBackward0>)"
            ]
          },
          "metadata": {},
          "execution_count": 28
        }
      ]
    },
    {
      "cell_type": "code",
      "source": [
        "# last exercise before LUNCH\n",
        "# compute per-channel mean/std for images in the train set?\n",
        "\n",
        "size = 32 * 32\n",
        "for i, (image, target) in enumerate(trainset):\n",
        "  print(image.sum(dim=2).sum(dim=1) / size)\n",
        "  if i == 10: break\n"
      ],
      "metadata": {
        "id": "RZBzN8ZrxXsU",
        "colab": {
          "base_uri": "https://localhost:8080/"
        },
        "outputId": "85943562-8a7c-4fdc-a03e-0be553b3c29e"
      },
      "execution_count": null,
      "outputs": [
        {
          "output_type": "stream",
          "name": "stdout",
          "text": [
            "tensor([ 0.3082, -0.3513, -0.9720])\n",
            "tensor([0.0948, 0.1456, 0.3243])\n",
            "tensor([0.1585, 0.2398, 0.3654])\n",
            "tensor([-0.4910, -0.7804, -1.1012])\n",
            "tensor([-0.6452, -0.4044,  0.0419])\n",
            "tensor([ 0.3321, -1.0262, -1.0941])\n",
            "tensor([-0.0926,  0.5891, -0.5556])\n",
            "tensor([ 0.1385,  0.2323, -0.3119])\n",
            "tensor([-0.3129,  0.6544,  1.4657])\n",
            "tensor([-0.9144, -1.0108, -1.0157])\n",
            "tensor([-0.9220, -0.8214, -1.0041])\n"
          ]
        }
      ]
    },
    {
      "cell_type": "code",
      "source": [
        ""
      ],
      "metadata": {
        "id": "dof7k-5KyuOd"
      },
      "execution_count": null,
      "outputs": []
    }
  ]
}